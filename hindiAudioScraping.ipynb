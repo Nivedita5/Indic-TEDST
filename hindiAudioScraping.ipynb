{
 "cells": [
  {
   "cell_type": "code",
   "execution_count": 2,
   "id": "48473cb2",
   "metadata": {},
   "outputs": [
    {
     "name": "stdout",
     "output_type": "stream",
     "text": [
      "['https://www.ted.com/talks/ted_ed_what_happens_if_an_engineered_virus_escapes_the_lab?language=en', 'https://www.ted.com/talks/ted_ed_how_to_manage_your_emotions?language=en', 'https://www.ted.com/talks/shannon_odell_how_puberty_changes_your_brain?language=en', 'https://www.ted.com/talks/ted_ed_why_you_procrastinate_even_when_it_feels_bad?language=en', 'https://www.ted.com/talks/yuval_noah_harari_the_actual_cost_of_preventing_climate_breakdown?language=en', 'https://www.ted.com/talks/katie_paterson_the_mind_bending_art_of_deep_time?language=en', 'https://www.ted.com/talks/mona_chalabi_what_makes_a_friendship_last?language=en', 'https://www.ted.com/talks/kaitlyn_sadtler_and_elizabeth_wayne_how_the_covid_19_vaccines_were_created_so_quickly?language=en', 'https://www.ted.com/talks/joseph_goffman_whatever_happened_to_acid_rain?language=en', 'https://www.ted.com/talks/kayla_wolf_why_every_world_map_is_wrong?language=en', 'https://www.ted.com/talks/briana_brownell_how_does_artificial_intelligence_learn?language=en', 'https://www.ted.com/talks/ted_ed_the_material_that_could_change_the_world_for_a_third_time?language=en', 'https://www.ted.com/talks/carolyn_marshall_why_didn_t_this_2_000_year_old_body_decompose?language=en', 'https://www.ted.com/talks/moriba_jah_what_if_every_satellite_suddenly_disappeared?language=en', 'https://www.ted.com/talks/jonathan_j_o_sullivan_and_grace_e_cunningham_which_type_of_milk_is_best_for_you?language=en', 'https://www.ted.com/talks/fabio_pacucci_could_we_harness_the_power_of_a_black_hole?language=en', 'https://www.ted.com/talks/brent_loken_can_we_create_the_perfect_farm?language=en', 'https://www.ted.com/talks/elizabeth_zibi_turtle_what_saturn_s_most_mysterious_moon_could_teach_us_about_the_origins_of_life?language=en', 'https://www.ted.com/talks/refik_anadol_art_in_the_age_of_machine_intelligence?language=en', 'https://www.ted.com/talks/chrystina_russell_a_path_to_higher_education_and_employment_for_refugees?language=en', 'https://www.ted.com/talks/shantell_martin_how_drawing_can_set_you_free?language=en', 'https://www.ted.com/talks/alex_rosenthal_and_pall_thordarson_which_is_better_soap_or_hand_sanitizer?language=en', 'https://www.ted.com/talks/brian_a_pavlac_what_really_happened_during_the_salem_witch_trials?language=en', 'https://www.ted.com/talks/alex_gendler_the_egyptian_myth_of_isis_and_the_seven_scorpions?language=en', 'https://www.ted.com/talks/jessica_ochoa_hendrix_how_virtual_reality_turns_students_into_scientists?language=en', 'https://www.ted.com/talks/erin_sullivan_does_photographing_a_moment_steal_the_experience_from_you?language=en', 'https://www.ted.com/talks/leila_pirhaji_the_medical_potential_of_ai_and_metabolites?language=en', 'https://www.ted.com/talks/iseult_gillespie_the_secret_student_resistance_to_hitler?language=en', 'https://www.ted.com/talks/emma_lazarus_new_colossus?language=en', 'https://www.ted.com/talks/camille_defrenne_and_suzanne_simard_the_secret_language_of_trees?language=en', 'https://www.ted.com/talks/cristin_o_keefe_aptowicz_three_months_after?language=en', 'https://www.ted.com/talks/shunan_teng_the_chinese_myth_of_the_immortal_white_snake?language=en', 'https://www.ted.com/talks/carole_cadwalladr_facebook_s_role_in_brexit_and_the_threat_to_democracy?language=en', 'https://www.ted.com/talks/katharine_wilkinson_how_empowering_women_and_girls_can_help_stop_global_warming?language=en', 'https://www.ted.com/talks/suzie_sheehy_the_case_for_curiosity_driven_research?language=en', 'https://www.ted.com/talks/essam_daod_how_we_can_bring_mental_health_support_to_refugees?language=en', 'https://www.ted.com/talks/prosanta_chakrabarty_four_billion_years_of_evolution_in_six_minutes?language=en', 'https://www.ted.com/talks/helen_gillet_you_found_me?language=en', 'https://www.ted.com/talks/mennat_el_ghalid_how_fungi_recognize_and_infect_plants?language=en', 'https://www.ted.com/talks/isaac_mizrahi_how_the_button_changed_fashion?language=en', 'https://www.ted.com/talks/raymond_tang_be_humble_and_other_lessons_from_the_philosophy_of_water?language=en', 'https://www.ted.com/talks/xavier_de_kestelier_adventures_of_an_interplanetary_architect?language=en', 'https://www.ted.com/talks/elizabeth_wayne_we_can_hack_our_immune_cells_to_fight_cancer?language=en', 'https://www.ted.com/talks/noriko_arai_can_a_robot_pass_a_university_entrance_exam?language=en', 'https://www.ted.com/talks/cathy_o_neil_the_era_of_blind_faith_in_big_data_must_end?language=en', 'https://www.ted.com/talks/damon_davis_courage_is_contagious?language=en', 'https://www.ted.com/talks/sofi_tukker_awoo?language=en', 'https://www.ted.com/talks/mehdi_ordikhani_seyedlar_what_happens_in_your_brain_when_you_pay_attention?language=en', 'https://www.ted.com/talks/stephen_bax_the_world_s_most_mysterious_book?language=en', 'https://www.ted.com/talks/jude_kelly_why_women_should_tell_the_stories_of_humanity?language=en', 'https://www.ted.com/talks/sam_kass_want_kids_to_learn_well_feed_them_well?language=en', 'https://www.ted.com/talks/amy_adkins_3_tips_to_boost_your_confidence?language=en', 'https://www.ted.com/talks/dave_brain_what_a_planet_needs_to_sustain_life?language=en', 'https://www.ted.com/talks/prosanta_chakrabarty_clues_to_prehistoric_times_found_in_blind_cavefish?language=en', 'https://www.ted.com/talks/julia_galef_why_you_think_you_re_right_even_if_you_re_wrong?language=en', 'https://www.ted.com/talks/aomawa_shields_how_we_ll_find_life_on_other_planets?language=en', 'https://www.ted.com/talks/emilie_wapnick_why_some_of_us_don_t_have_one_true_calling?language=en', 'https://www.ted.com/talks/jim_al_khalili_how_quantum_biology_might_explain_life_s_biggest_questions?language=en', 'https://www.ted.com/talks/john_green_the_nerd_s_guide_to_learning_everything_online?language=en', 'https://www.ted.com/talks/bill_gates_the_next_outbreak_we_re_not_ready?language=en', 'https://www.ted.com/talks/jon_gosier_the_problem_with_trickle_down_techonomics?language=en', 'https://www.ted.com/talks/bassam_tariq_the_beauty_and_diversity_of_muslim_life?language=en', 'https://www.ted.com/talks/aziz_abu_sarah_for_more_tolerance_we_need_more_tourism?language=en', 'https://www.ted.com/talks/michael_rubinstein_see_invisible_motion_hear_silent_sounds?language=en', 'https://www.ted.com/talks/mundano_trash_cart_superheroes?language=en', 'https://www.ted.com/talks/rosie_king_how_autism_freed_me_to_be_myself?language=en', 'https://www.ted.com/talks/joe_landolina_this_gel_can_make_you_stop_bleeding_instantly?language=en', 'https://www.ted.com/talks/frans_lanting_photos_that_give_voice_to_the_animal_kingdom?language=en', 'https://www.ted.com/talks/mac_barnett_why_a_good_book_is_a_secret_door?language=en', 'https://www.ted.com/talks/uldus_bakhtiozina_wry_photos_that_turn_stereotypes_upside_down?language=en', 'https://www.ted.com/talks/ruth_chang_how_to_make_hard_choices?language=en', 'https://www.ted.com/talks/dan_gilbert_the_psychology_of_your_future_self?language=en', 'https://www.ted.com/talks/jon_mooallem_how_the_teddy_bear_taught_us_compassion?language=en', 'https://www.ted.com/talks/christopher_emdin_teach_teachers_how_to_create_magic?language=en', 'https://www.ted.com/talks/maya_penn_meet_a_young_entrepreneur_cartoonist_designer_activist?language=en', 'https://www.ted.com/talks/mckenna_pope_want_to_be_an_activist_start_with_your_toys?language=en', 'https://www.ted.com/talks/david_lang_my_underwater_robot?language=en', 'https://www.ted.com/talks/suzana_herculano_houzel_what_is_so_special_about_the_human_brain?language=en', 'https://www.ted.com/talks/robin_nagle_what_i_discovered_in_new_york_city_trash?language=en', 'https://www.ted.com/talks/malcolm_gladwell_the_unheard_story_of_david_and_goliath?language=en', 'https://www.ted.com/talks/kelly_mcgonigal_how_to_make_stress_your_friend?language=en', 'https://www.ted.com/talks/charmian_gooch_meet_global_corruption_s_hidden_players?language=en', 'https://www.ted.com/talks/camille_seaman_photos_from_a_storm_chaser?language=en', 'https://www.ted.com/talks/juliana_rotich_meet_brck_internet_access_built_for_africa?language=en', 'https://www.ted.com/talks/sir_ken_robinson_how_to_escape_education_s_death_valley?language=en', 'https://www.ted.com/talks/nilofer_merchant_got_a_meeting_take_a_walk?language=en', 'https://www.ted.com/talks/david_pogue_10_top_time_saving_tech_tips?language=en', 'https://www.ted.com/talks/freeman_hrabowski_4_pillars_of_college_success_in_science?language=en', 'https://www.ted.com/talks/sanjay_dastoor_a_skateboard_with_a_boost?language=en', 'https://www.ted.com/talks/richard_turere_my_invention_that_made_peace_with_lions?language=en', 'https://www.ted.com/talks/mark_shaw_one_very_dry_demo?language=en', 'https://www.ted.com/talks/bruno_maisonnier_dance_tiny_robots?language=en', 'https://www.ted.com/talks/shabana_basij_rasikh_dare_to_educate_afghan_girls?language=en', 'https://www.ted.com/talks/cameron_russell_looks_aren_t_everything_believe_me_i_m_a_model?language=en', 'https://www.ted.com/talks/andrew_mcafee_are_droids_taking_our_jobs?language=en', 'https://www.ted.com/talks/chris_anderson_why_can_t_we_see_evidence_of_alien_life?language=en', 'https://www.ted.com/talks/taylor_wilson_yup_i_built_a_nuclear_fusion_reactor?language=en', 'https://www.ted.com/talks/rob_reid_the_8_billion_ipod?language=en', 'https://www.ted.com/talks/susan_cain_the_power_of_introverts?language=en', 'https://www.ted.com/talks/kevin_allocca_why_videos_go_viral?language=en', 'https://www.ted.com/talks/erik_johansson_impossible_photography?language=en', 'https://www.ted.com/talks/clay_shirky_why_sopa_is_a_bad_idea?language=en', 'https://www.ted.com/talks/mikko_hypponen_three_types_of_online_attack?language=en', 'https://www.ted.com/talks/john_bohannon_dance_vs_powerpoint_a_modest_proposal?language=en', 'https://www.ted.com/talks/joe_sabia_the_technology_of_storytelling?language=en', 'https://www.ted.com/talks/thomas_suarez_a_12_year_old_app_developer?language=en', 'https://www.ted.com/talks/julian_treasure_5_ways_to_listen_better?language=en', 'https://www.ted.com/talks/matt_cutts_try_something_new_for_30_days?language=en', 'https://www.ted.com/talks/dave_debronkart_meet_e_patient_dave?language=en', 'https://www.ted.com/talks/joshua_walters_on_being_just_crazy_enough?language=en', 'https://www.ted.com/talks/jd_schramm_break_the_silence_for_suicide_attempt_survivors?language=en', 'https://www.ted.com/talks/terry_moore_how_to_tie_your_shoes?language=en', 'https://www.ted.com/talks/ron_gutman_the_hidden_power_of_smiling?language=en', 'https://www.ted.com/talks/ric_elias_3_things_i_learned_while_my_plane_crashed?language=en', 'https://www.ted.com/talks/john_hunter_teaching_with_the_world_peace_game?language=en', 'https://www.ted.com/talks/jody_williams_a_realistic_vision_for_world_peace?language=en', 'https://www.ted.com/talks/lesley_hazleton_on_reading_the_koran?language=en', 'https://www.ted.com/talks/arianna_huffington_how_to_succeed_get_more_sleep?language=en', 'https://www.ted.com/talks/barry_schwartz_using_our_practical_wisdom?language=en', 'https://www.ted.com/talks/stacey_kramer_the_best_gift_i_ever_survived?language=en', 'https://www.ted.com/talks/sugata_mitra_the_child_driven_education?language=en', 'https://www.ted.com/talks/derek_sivers_keep_your_goals_to_yourself?language=en', 'https://www.ted.com/talks/sheryl_wudunn_our_century_s_greatest_injustice?language=en', 'https://www.ted.com/talks/hans_rosling_global_population_growth_box_by_box?language=en', 'https://www.ted.com/talks/mitchell_joachim_don_t_build_your_home_grow_it?language=en', 'https://www.ted.com/talks/sir_ken_robinson_bring_on_the_learning_revolution?language=en', 'https://www.ted.com/talks/simon_sinek_how_great_leaders_inspire_action?language=en', 'https://www.ted.com/talks/adora_svitak_what_adults_can_learn_from_kids?language=en', 'https://www.ted.com/talks/derek_sivers_how_to_start_a_movement?language=en', 'https://www.ted.com/talks/shukla_bose_teaching_one_child_at_a_time?language=en', 'https://www.ted.com/talks/robert_gupta_music_is_medicine_music_is_sanity?language=en', 'https://www.ted.com/talks/harsha_bhogle_the_rise_of_cricket_the_rise_of_india?language=en', 'https://www.ted.com/talks/derek_sivers_weird_or_just_different?language=en', 'https://www.ted.com/talks/vilayanur_ramachandran_the_neurons_that_shaped_civilization?language=en', 'https://www.ted.com/talks/loretta_napoleoni_the_intricate_economics_of_terrorism?language=en', 'https://www.ted.com/talks/devdutt_pattanaik_east_vs_west_the_myths_that_mystify?language=en', 'https://www.ted.com/talks/cameron_sinclair_the_refugees_of_boom_and_bust?language=en', 'https://www.ted.com/talks/karen_armstrong_let_s_revive_the_golden_rule?language=en', 'https://www.ted.com/talks/alain_de_botton_a_kinder_gentler_philosophy_of_success?language=en', 'https://www.ted.com/talks/arthur_benjamin_teach_statistics_before_calculus?language=en', 'https://www.ted.com/talks/richard_st_john_success_is_a_continuous_journey?language=en', 'https://www.ted.com/talks/al_gore_what_comes_after_an_inconvenient_truth?language=en', 'https://www.ted.com/talks/jacqueline_novogratz_an_escape_from_poverty?language=en', 'https://www.ted.com/talks/dan_dennett_cute_sexy_sweet_funny?language=en', 'https://www.ted.com/talks/pattie_maes_pranav_mistry_meet_the_sixthsense_interaction?language=en', 'https://www.ted.com/talks/feisal_abdul_rauf_lose_your_ego_find_your_compassion?language=en', 'https://www.ted.com/talks/james_burchfield_playing_invisible_turntables?language=en', 'https://www.ted.com/talks/laura_trice_remember_to_say_thank_you?language=en', 'https://www.ted.com/talks/adam_grosser_a_mobile_fridge_for_vaccines?language=en', 'https://www.ted.com/talks/al_gore_new_thinking_on_the_climate_crisis?language=en', 'https://www.ted.com/talks/jill_bolte_taylor_my_stroke_of_insight?language=en', 'https://www.ted.com/talks/ngozi_okonjo_iweala_want_to_help_africa_do_business_here?language=en', 'https://www.ted.com/talks/blaise_aguera_y_arcas_how_photosynth_can_connect_the_world_s_images?language=en', 'https://www.ted.com/talks/richard_dawkins_militant_atheism?language=en', 'https://www.ted.com/talks/wade_davis_dreams_from_endangered_cultures?language=en', 'https://www.ted.com/talks/richard_st_john_8_secrets_of_success?language=en', 'https://www.ted.com/talks/hans_rosling_the_best_stats_you_ve_ever_seen?language=en', 'https://www.ted.com/talks/sir_ken_robinson_do_schools_kill_creativity?language=en', 'https://www.ted.com/talks/majora_carter_greening_the_ghetto?language=en']\n"
     ]
    }
   ],
   "source": [
    "import csv\n",
    "import re\n",
    "\n",
    "def extract_urls_from_csv(csv_file):\n",
    "    urls = []\n",
    "\n",
    "    with open(csv_file, 'r') as file:\n",
    "        reader = csv.reader(file)\n",
    "        for row in reader:\n",
    "            for item in row:\n",
    "                # Use regular expression to find URLs\n",
    "                url_matches = re.findall(r'http[s]?://(?:[a-zA-Z]|[0-9]|[$-_@.&+]|[!*\\\\(\\\\),]|(?:%[0-9a-fA-F][0-9a-fA-F]))+', item)\n",
    "                urls.extend(url_matches)\n",
    "\n",
    "    return urls\n",
    "\n",
    "# Example usage\n",
    "csv_file_path = 'output_hi_en.csv'\n",
    "extracted_urls = extract_urls_from_csv(csv_file_path)\n",
    "print(extracted_urls)\n"
   ]
  },
  {
   "cell_type": "code",
   "execution_count": 3,
   "id": "6f31f467",
   "metadata": {},
   "outputs": [
    {
     "name": "stdout",
     "output_type": "stream",
     "text": [
      "159\n"
     ]
    }
   ],
   "source": [
    "print(len(extracted_urls))"
   ]
  },
  {
   "cell_type": "code",
   "execution_count": 4,
   "id": "18926fd5",
   "metadata": {},
   "outputs": [],
   "source": [
    "import requests\n",
    "from bs4 import BeautifulSoup\n",
    "import re\n",
    "import json\n",
    "from pydub import AudioSegment\n",
    "import ffmpeg\n",
    "import os"
   ]
  },
  {
   "cell_type": "code",
   "execution_count": 8,
   "id": "3a0bfb6a",
   "metadata": {},
   "outputs": [
    {
     "name": "stdout",
     "output_type": "stream",
     "text": [
      "Error occurred for file: vid_bn159.mp4. Skipping...\n"
     ]
    }
   ],
   "source": [
    "output_directory = \"aud_hi\"\n",
    "if not os.path.exists(output_directory):\n",
    "    os.makedirs(output_directory)\n",
    "    \n",
    "for i in range(0,160):\n",
    "    try:\n",
    "        e = extracted_urls[i]\n",
    "        r = requests.get(e)\n",
    "        soup = BeautifulSoup(r.content, \"html.parser\")\n",
    "        nd = soup.find(id=\"__NEXT_DATA__\")\n",
    "        dj = nd.string\n",
    "        player_data = json.loads(dj)['props']['pageProps']['videoData']['playerData']\n",
    "        url_content = json.loads(player_data)['resources']['h264'][0]['file']\n",
    "        mp4_response = requests.get(url_content)\n",
    "        file_name = os.path.join(output_directory, f'vid_hi{i}.mp4')\n",
    "        with open(file_name, 'wb') as f:\n",
    "            f.write(mp4_response.content)\n",
    "        \n",
    "        output_file = os.path.join(output_directory, f'aud_hi{i}.wav')\n",
    "\n",
    "        audio = AudioSegment.from_file(file_name, \"mp4\")\n",
    "        audio.export(output_file, format=\"wav\")\n",
    "\n",
    "    except Exception as e:\n",
    "        print(f\"Error occurred for file: vid_hi{i}.mp4. Skipping...\")\n",
    "    \n",
    "    i+=1\n"
   ]
  }
 ],
 "metadata": {
  "kernelspec": {
   "display_name": "Python 3 (ipykernel)",
   "language": "python",
   "name": "python3"
  },
  "language_info": {
   "codemirror_mode": {
    "name": "ipython",
    "version": 3
   },
   "file_extension": ".py",
   "mimetype": "text/x-python",
   "name": "python",
   "nbconvert_exporter": "python",
   "pygments_lexer": "ipython3",
   "version": "3.9.12"
  }
 },
 "nbformat": 4,
 "nbformat_minor": 5
}
