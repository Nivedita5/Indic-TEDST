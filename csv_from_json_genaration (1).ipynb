{
 "cells": [
  {
   "cell_type": "code",
   "execution_count": null,
   "id": "2b4eed78",
   "metadata": {},
   "outputs": [],
   "source": [
    "import json\n",
    "import csv\n",
    "import os\n",
    "\n",
    "# Specify the base path to the JSON files\n",
    "base_path = \"/Users/saanvinair/Desktop/hi/json\"\n",
    "\n",
    "# Specify the output folder for CSV files\n",
    "output_csv_folder = \"/Users/saanvinair/Desktop/hi/csv\"\n",
    "\n",
    "# Ensure the output folder exists, or create it\n",
    "if not os.path.exists(output_csv_folder):\n",
    "    os.makedirs(output_csv_folder)\n",
    "\n",
    "# Iterate over the range of file numbers (2 to 114)\n",
    "for file_number in range(1, 20):\n",
    "    # Construct the path to the JSON file\n",
    "    json_file_path = os.path.join(base_path, f\"alignment_result_{file_number}.json\")\n",
    "\n",
    "    # Load JSON data from the file\n",
    "    with open(json_file_path, \"r\", encoding=\"utf-8\") as json_file:\n",
    "        json_data = json.load(json_file)\n",
    "\n",
    "    # Extract relevant data from the \"words\" section\n",
    "    word_data = [\n",
    "        {\n",
    "            \"word\": word.get(\"word\", \"\"),\n",
    "            \"alignedWord\": word.get(\"alignedWord\", \"\"),\n",
    "            \"start\": word.get(\"start\", \"\"),\n",
    "            \"end\": word.get(\"end\", \"\"),\n",
    "        }\n",
    "        for word in json_data[\"words\"]\n",
    "    ]\n",
    "\n",
    "    # Get the fieldnames dynamically from the keys of the first dictionary in word_data\n",
    "    fieldnames = word_data[0].keys() if word_data else []\n",
    "\n",
    "    # Specify the CSV file path\n",
    "    csv_file_path = os.path.join(output_csv_folder, f\"output_{file_number}.csv\")\n",
    "\n",
    "    # Write the data to the CSV file with dynamically obtained fieldnames\n",
    "    with open(csv_file_path, mode=\"w\", newline=\"\", encoding=\"utf-8\") as csv_file:\n",
    "        writer = csv.DictWriter(csv_file, fieldnames=fieldnames)\n",
    "\n",
    "        # Write header\n",
    "        writer.writeheader()\n",
    "\n",
    "        # Write data\n",
    "        writer.writerows(word_data)\n",
    "\n",
    "    print(f\"CSV file created at {csv_file_path}\")\n"
   ]
  }
 ],
 "metadata": {
  "kernelspec": {
   "display_name": "Python 3 (ipykernel)",
   "language": "python",
   "name": "python3"
  },
  "language_info": {
   "codemirror_mode": {
    "name": "ipython",
    "version": 3
   },
   "file_extension": ".py",
   "mimetype": "text/x-python",
   "name": "python",
   "nbconvert_exporter": "python",
   "pygments_lexer": "ipython3",
   "version": "3.9.12"
  }
 },
 "nbformat": 4,
 "nbformat_minor": 5
}
