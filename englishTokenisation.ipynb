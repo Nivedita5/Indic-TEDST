{
 "cells": [
  {
   "cell_type": "code",
   "execution_count": 11,
   "id": "f3559f54",
   "metadata": {},
   "outputs": [
    {
     "name": "stdout",
     "output_type": "stream",
     "text": [
      "Requirement already satisfied: indic-nlp-library in /Users/saanvinair/opt/anaconda3/lib/python3.9/site-packages (0.92)\n",
      "Requirement already satisfied: sphinx-argparse in /Users/saanvinair/opt/anaconda3/lib/python3.9/site-packages (from indic-nlp-library) (0.4.0)\n",
      "Requirement already satisfied: sphinx-rtd-theme in /Users/saanvinair/opt/anaconda3/lib/python3.9/site-packages (from indic-nlp-library) (1.2.2)\n",
      "Requirement already satisfied: morfessor in /Users/saanvinair/opt/anaconda3/lib/python3.9/site-packages (from indic-nlp-library) (2.0.6)\n",
      "Requirement already satisfied: pandas in /Users/saanvinair/opt/anaconda3/lib/python3.9/site-packages (from indic-nlp-library) (1.4.2)\n",
      "Requirement already satisfied: numpy in /Users/saanvinair/opt/anaconda3/lib/python3.9/site-packages (from indic-nlp-library) (1.23.5)\n",
      "Requirement already satisfied: python-dateutil>=2.8.1 in /Users/saanvinair/opt/anaconda3/lib/python3.9/site-packages (from pandas->indic-nlp-library) (2.8.2)\n",
      "Requirement already satisfied: pytz>=2020.1 in /Users/saanvinair/opt/anaconda3/lib/python3.9/site-packages (from pandas->indic-nlp-library) (2020.1)\n",
      "Requirement already satisfied: sphinx>=1.2.0 in /Users/saanvinair/opt/anaconda3/lib/python3.9/site-packages (from sphinx-argparse->indic-nlp-library) (4.4.0)\n",
      "Requirement already satisfied: docutils<0.19 in /Users/saanvinair/opt/anaconda3/lib/python3.9/site-packages (from sphinx-rtd-theme->indic-nlp-library) (0.17.1)\n",
      "Requirement already satisfied: sphinxcontrib-jquery<5,>=4 in /Users/saanvinair/opt/anaconda3/lib/python3.9/site-packages (from sphinx-rtd-theme->indic-nlp-library) (4.1)\n",
      "Requirement already satisfied: six>=1.5 in /Users/saanvinair/opt/anaconda3/lib/python3.9/site-packages (from python-dateutil>=2.8.1->pandas->indic-nlp-library) (1.16.0)\n",
      "Requirement already satisfied: sphinxcontrib-applehelp in /Users/saanvinair/opt/anaconda3/lib/python3.9/site-packages (from sphinx>=1.2.0->sphinx-argparse->indic-nlp-library) (1.0.2)\n",
      "Requirement already satisfied: sphinxcontrib-devhelp in /Users/saanvinair/opt/anaconda3/lib/python3.9/site-packages (from sphinx>=1.2.0->sphinx-argparse->indic-nlp-library) (1.0.2)\n",
      "Requirement already satisfied: sphinxcontrib-jsmath in /Users/saanvinair/opt/anaconda3/lib/python3.9/site-packages (from sphinx>=1.2.0->sphinx-argparse->indic-nlp-library) (1.0.1)\n",
      "Requirement already satisfied: sphinxcontrib-htmlhelp>=2.0.0 in /Users/saanvinair/opt/anaconda3/lib/python3.9/site-packages (from sphinx>=1.2.0->sphinx-argparse->indic-nlp-library) (2.0.0)\n",
      "Requirement already satisfied: sphinxcontrib-serializinghtml>=1.1.5 in /Users/saanvinair/opt/anaconda3/lib/python3.9/site-packages (from sphinx>=1.2.0->sphinx-argparse->indic-nlp-library) (1.1.5)\n",
      "Requirement already satisfied: sphinxcontrib-qthelp in /Users/saanvinair/opt/anaconda3/lib/python3.9/site-packages (from sphinx>=1.2.0->sphinx-argparse->indic-nlp-library) (1.0.3)\n",
      "Requirement already satisfied: Jinja2>=2.3 in /Users/saanvinair/opt/anaconda3/lib/python3.9/site-packages (from sphinx>=1.2.0->sphinx-argparse->indic-nlp-library) (2.11.3)\n",
      "Requirement already satisfied: Pygments>=2.0 in /Users/saanvinair/opt/anaconda3/lib/python3.9/site-packages (from sphinx>=1.2.0->sphinx-argparse->indic-nlp-library) (2.11.2)\n",
      "Requirement already satisfied: snowballstemmer>=1.1 in /Users/saanvinair/opt/anaconda3/lib/python3.9/site-packages (from sphinx>=1.2.0->sphinx-argparse->indic-nlp-library) (2.2.0)\n",
      "Requirement already satisfied: babel>=1.3 in /Users/saanvinair/opt/anaconda3/lib/python3.9/site-packages (from sphinx>=1.2.0->sphinx-argparse->indic-nlp-library) (2.9.1)\n",
      "Requirement already satisfied: alabaster<0.8,>=0.7 in /Users/saanvinair/opt/anaconda3/lib/python3.9/site-packages (from sphinx>=1.2.0->sphinx-argparse->indic-nlp-library) (0.7.12)\n",
      "Requirement already satisfied: imagesize in /Users/saanvinair/opt/anaconda3/lib/python3.9/site-packages (from sphinx>=1.2.0->sphinx-argparse->indic-nlp-library) (1.3.0)\n",
      "Requirement already satisfied: requests>=2.5.0 in /Users/saanvinair/opt/anaconda3/lib/python3.9/site-packages (from sphinx>=1.2.0->sphinx-argparse->indic-nlp-library) (2.27.1)\n",
      "Requirement already satisfied: packaging in /Users/saanvinair/opt/anaconda3/lib/python3.9/site-packages (from sphinx>=1.2.0->sphinx-argparse->indic-nlp-library) (21.3)\n",
      "Requirement already satisfied: importlib-metadata>=4.4 in /Users/saanvinair/opt/anaconda3/lib/python3.9/site-packages (from sphinx>=1.2.0->sphinx-argparse->indic-nlp-library) (4.11.3)\n",
      "Requirement already satisfied: zipp>=0.5 in /Users/saanvinair/opt/anaconda3/lib/python3.9/site-packages (from importlib-metadata>=4.4->sphinx>=1.2.0->sphinx-argparse->indic-nlp-library) (3.7.0)\n",
      "Requirement already satisfied: MarkupSafe>=0.23 in /Users/saanvinair/opt/anaconda3/lib/python3.9/site-packages (from Jinja2>=2.3->sphinx>=1.2.0->sphinx-argparse->indic-nlp-library) (2.0.1)\n",
      "Requirement already satisfied: urllib3<1.27,>=1.21.1 in /Users/saanvinair/opt/anaconda3/lib/python3.9/site-packages (from requests>=2.5.0->sphinx>=1.2.0->sphinx-argparse->indic-nlp-library) (1.26.6)\n",
      "Requirement already satisfied: certifi>=2017.4.17 in /Users/saanvinair/opt/anaconda3/lib/python3.9/site-packages (from requests>=2.5.0->sphinx>=1.2.0->sphinx-argparse->indic-nlp-library) (2022.12.7)\n",
      "Requirement already satisfied: charset-normalizer~=2.0.0 in /Users/saanvinair/opt/anaconda3/lib/python3.9/site-packages (from requests>=2.5.0->sphinx>=1.2.0->sphinx-argparse->indic-nlp-library) (2.0.4)\n",
      "Requirement already satisfied: idna<4,>=2.5 in /Users/saanvinair/opt/anaconda3/lib/python3.9/site-packages (from requests>=2.5.0->sphinx>=1.2.0->sphinx-argparse->indic-nlp-library) (2.10)\n",
      "Requirement already satisfied: pyparsing!=3.0.5,>=2.0.2 in /Users/saanvinair/opt/anaconda3/lib/python3.9/site-packages (from packaging->sphinx>=1.2.0->sphinx-argparse->indic-nlp-library) (2.4.7)\n"
     ]
    }
   ],
   "source": [
    "!pip install indic-nlp-library"
   ]
  },
  {
   "cell_type": "code",
   "execution_count": 1,
   "id": "583f8b5c",
   "metadata": {},
   "outputs": [],
   "source": [
    "from indicnlp.tokenize import indic_tokenize\n"
   ]
  },
  {
   "cell_type": "code",
   "execution_count": 14,
   "id": "7b6e2f46",
   "metadata": {},
   "outputs": [],
   "source": [
    "import glob\n",
    "import nltk\n",
    "import os\n",
    "import os\n",
    "import time\n",
    "import json\n",
    "folder_name = 'transcripts_hi_en'\n",
    "if not os.path.exists(folder_name):\n",
    "    os.makedirs(folder_name)\n",
    "\n",
    "# Directory path where the files are located\n",
    "directory_path = '/Users/saanvinair/jupyter/transcripts_hi_en'\n",
    "\n",
    "# File pattern for the TXT files\n",
    "file_pattern = 'transcript_hi_en*_split.txt'\n",
    "\n",
    "file_paths = glob.glob(f'{directory_path}/{file_pattern}')\n",
    "\n",
    "# Iterate over the files in the directory\n",
    "for file_path in file_paths:\n",
    "    with open(file_path, 'r', encoding='utf-8') as file:\n",
    "        split_text = file.read()\n",
    "        tokenized_text = indic_tokenize.trivial_tokenize(split_text, lang='en')\n",
    "\n",
    "\n",
    "        # Construct the output file path\n",
    "    output_file_path = file_path.replace('.txt', '_tokenized.txt')\n",
    "\n",
    "        # Write the split sentences back into the file\n",
    "    with open(output_file_path, 'w', encoding='utf-8') as output_file:\n",
    "        output_file.write(' '.join(tokenized_text))"
   ]
  },
  {
   "cell_type": "code",
   "execution_count": null,
   "id": "c8773e23",
   "metadata": {},
   "outputs": [],
   "source": []
  }
 ],
 "metadata": {
  "kernelspec": {
   "display_name": "Python 3 (ipykernel)",
   "language": "python",
   "name": "python3"
  },
  "language_info": {
   "codemirror_mode": {
    "name": "ipython",
    "version": 3
   },
   "file_extension": ".py",
   "mimetype": "text/x-python",
   "name": "python",
   "nbconvert_exporter": "python",
   "pygments_lexer": "ipython3",
   "version": "3.9.12"
  }
 },
 "nbformat": 4,
 "nbformat_minor": 5
}
