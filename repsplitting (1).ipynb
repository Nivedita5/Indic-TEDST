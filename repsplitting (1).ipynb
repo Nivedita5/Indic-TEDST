{
 "cells": [
  {
   "cell_type": "code",
   "execution_count": 1,
   "id": "ed8b6598",
   "metadata": {},
   "outputs": [
    {
     "name": "stdout",
     "output_type": "stream",
     "text": [
      "Requirement already satisfied: langdetect in /Users/saanvinair/opt/anaconda3/lib/python3.9/site-packages (1.0.9)\r\n",
      "Requirement already satisfied: six in /Users/saanvinair/opt/anaconda3/lib/python3.9/site-packages (from langdetect) (1.16.0)\r\n"
     ]
    }
   ],
   "source": [
    "!pip install langdetect"
   ]
  },
  {
   "cell_type": "code",
   "execution_count": 2,
   "id": "952ac9dc",
   "metadata": {},
   "outputs": [
    {
     "name": "stdout",
     "output_type": "stream",
     "text": [
      "Splitting and writing complete.\n"
     ]
    }
   ],
   "source": [
    "import os\n",
    "\n",
    "# Define the input folder containing files like \"0_eng_alignment.txt\" to \"20_eng_alignment.txt\"\n",
    "input_folder = '/Users/saanvinair/Downloads/hindi_combined'\n",
    "output_folder = '/Users/saanvinair/Downloads/hindi_for_gentle'\n",
    "\n",
    "# Create output directories if they don't exist\n",
    "if not os.path.exists(output_folder):\n",
    "    os.makedirs(output_folder)\n",
    "\n",
    "english_output_folder = os.path.join(output_folder, 'english')\n",
    "hindi_output_folder = os.path.join(output_folder, 'hindi')\n",
    "\n",
    "if not os.path.exists(english_output_folder):\n",
    "    os.makedirs(english_output_folder)\n",
    "\n",
    "if not os.path.exists(hindi_output_folder):\n",
    "    os.makedirs(hindi_output_folder)\n",
    "\n",
    "# Function to check if a line contains Hindi characters\n",
    "def contains_hindi(text):\n",
    "    hindi_characters = set(\"अआइईउऊऋएऐओऔकखगघङचछजझञटठडढणतथदधनपफबभमयरलवशषसह\")\n",
    "    return any(char in hindi_characters for char in text)\n",
    "\n",
    "# Process files from \"0_eng_alignment.txt\" to \"20_eng_alignment.txt\" in the input folder\n",
    "for i in range(19,20):\n",
    "    filename = f\"{i}_eng_alignment.txt\"\n",
    "    input_file_path = os.path.join(input_folder, filename)\n",
    "\n",
    "    # Check if the file exists before processing\n",
    "    if not os.path.exists(input_file_path):\n",
    "        continue\n",
    "\n",
    "    english_output_file_path = os.path.join(english_output_folder, filename)\n",
    "    hindi_output_file_path = os.path.join(hindi_output_folder, filename)\n",
    "\n",
    "    # Initialize variables to store English and Hindi text\n",
    "    english_text = ''\n",
    "    hindi_text = ''\n",
    "\n",
    "    # Flag to track the language of the current text block\n",
    "    current_language = None\n",
    "\n",
    "    # Read the input file and process lines\n",
    "    with open(input_file_path, 'r', encoding='utf-8') as infile:\n",
    "        for line in infile:\n",
    "            line = line.strip()\n",
    "\n",
    "            # Check if the line contains Hindi characters\n",
    "            contains_hindi_line = contains_hindi(line)\n",
    "\n",
    "            # Determine the language of the line\n",
    "            if contains_hindi_line:\n",
    "                if current_language == 'english':\n",
    "                    # If the previous block was English, start a new Hindi block\n",
    "                    hindi_text += '\\n'  # Add a new line separator\n",
    "                current_language = 'hindi'\n",
    "                hindi_text += line if current_language == 'hindi' else ''\n",
    "            else:\n",
    "                if current_language == 'hindi':\n",
    "                    # If the previous block was Hindi, start a new English block\n",
    "                    english_text += '\\n'  # Add a new line separator\n",
    "                current_language = 'english'\n",
    "                english_text += line if current_language == 'english' else ''\n",
    "\n",
    "    # Split the text into lines\n",
    "    hindi_lines = hindi_text.strip().split('\\n')\n",
    "    english_lines = english_text.strip().split('\\n')\n",
    "\n",
    "    # Ensure an equal number of lines in Hindi and English text\n",
    "    min_lines = min(len(hindi_lines), len(english_lines))\n",
    "    hindi_text = '\\n'.join(hindi_lines[:min_lines])\n",
    "    english_text = '\\n'.join(english_lines[:min_lines])\n",
    "\n",
    "    # Write Hindi text to the Hindi output file\n",
    "    with open(hindi_output_file_path, 'w', encoding='utf-8') as f_hindi:\n",
    "        f_hindi.write(hindi_text)\n",
    "\n",
    "    # Write English text to the English output file\n",
    "    with open(english_output_file_path, 'w', encoding='utf-8') as f_english:\n",
    "        f_english.write(english_text)\n",
    "\n",
    "print(\"Splitting and writing complete.\")\n"
   ]
  }
 ],
 "metadata": {
  "kernelspec": {
   "display_name": "Python 3 (ipykernel)",
   "language": "python",
   "name": "python3"
  },
  "language_info": {
   "codemirror_mode": {
    "name": "ipython",
    "version": 3
   },
   "file_extension": ".py",
   "mimetype": "text/x-python",
   "name": "python",
   "nbconvert_exporter": "python",
   "pygments_lexer": "ipython3",
   "version": "3.9.12"
  }
 },
 "nbformat": 4,
 "nbformat_minor": 5
}
