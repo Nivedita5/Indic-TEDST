{
 "cells": [
  {
   "cell_type": "code",
   "execution_count": 1,
   "id": "962bb82a",
   "metadata": {},
   "outputs": [
    {
     "name": "stdout",
     "output_type": "stream",
     "text": [
      "Requirement already satisfied: pydub in /Users/saanvinair/opt/anaconda3/lib/python3.9/site-packages (0.25.1)\r\n"
     ]
    }
   ],
   "source": [
    "!pip install pydub"
   ]
  },
  {
   "cell_type": "code",
   "execution_count": null,
   "id": "c778de9a",
   "metadata": {},
   "outputs": [],
   "source": [
    "import os\n",
    "from pydub import AudioSegment\n",
    "\n",
    "def convert_audio_to_16k_wav(audio_input, output_folder):\n",
    "    sound = AudioSegment.from_file(audio_input)\n",
    "\n",
    "    sample_rate = sound.frame_rate\n",
    "    num_channels = sound.channels\n",
    "\n",
    "    filename = os.path.basename(audio_input)\n",
    "\n",
    "    print(\"Original file is at:\", audio_input)\n",
    "\n",
    "    if (num_channels > 1) or (sample_rate != 16000):  # convert to mono-channel 16k wav\n",
    "        if num_channels > 1:\n",
    "            sound = sound.set_channels(1)\n",
    "\n",
    "        if sample_rate != 16000:\n",
    "            sound = sound.set_frame_rate(16000)\n",
    "\n",
    "        filename = filename.replace(\".wav\", \"\") + \"_16k.wav\"\n",
    "        output_path = os.path.join(output_folder, filename)\n",
    "        sound.export(output_path, format=\"wav\")\n",
    "\n",
    "    return filename\n",
    "\n",
    "def convert_all_files_in_folder(input_folder, output_folder):\n",
    "    if not os.path.exists(output_folder):\n",
    "        os.makedirs(output_folder)\n",
    "\n",
    "    for root, dirs, files in os.walk(input_folder):\n",
    "        for file in files:\n",
    "            if file.endswith(\".wav\"):\n",
    "                file_path = os.path.join(root, file)\n",
    "                convert_audio_to_16k_wav(file_path, output_folder)\n",
    "\n",
    "# Use the function\n",
    "input_folder_path = \"/Users/saanvinair/Desktop/data_hi/en-hi/data/wav\"\n",
    "output_folder_path = \"/Users/saanvinair/Desktop/data_hi/en-hi/data/wav2\"\n",
    "convert_all_files_in_folder(input_folder_path, output_folder_path)\n"
   ]
  }
 ],
 "metadata": {
  "kernelspec": {
   "display_name": "Python 3 (ipykernel)",
   "language": "python",
   "name": "python3"
  },
  "language_info": {
   "codemirror_mode": {
    "name": "ipython",
    "version": 3
   },
   "file_extension": ".py",
   "mimetype": "text/x-python",
   "name": "python",
   "nbconvert_exporter": "python",
   "pygments_lexer": "ipython3",
   "version": "3.9.12"
  }
 },
 "nbformat": 4,
 "nbformat_minor": 5
}
